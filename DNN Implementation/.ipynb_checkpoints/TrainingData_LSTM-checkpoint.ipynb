{
 "cells": [
  {
   "cell_type": "code",
   "execution_count": 2,
   "metadata": {},
   "outputs": [
    {
     "name": "stderr",
     "output_type": "stream",
     "text": [
      "C:\\Users\\yichu\\Anaconda3\\envs\\tensorflow\\lib\\site-packages\\h5py\\__init__.py:36: FutureWarning: Conversion of the second argument of issubdtype from `float` to `np.floating` is deprecated. In future, it will be treated as `np.float64 == np.dtype(float).type`.\n",
      "  from ._conv import register_converters as _register_converters\n",
      "Using TensorFlow backend.\n"
     ]
    }
   ],
   "source": [
    "from keras.layers import Dense, Dropout, LSTM, Embedding, Conv1D, MaxPooling1D\n",
    "from keras.preprocessing.sequence import pad_sequences\n",
    "from keras.models import Sequential\n",
    "import pandas as pd\n",
    "import numpy as np"
   ]
  },
  {
   "cell_type": "code",
   "execution_count": 3,
   "metadata": {},
   "outputs": [
    {
     "name": "stdout",
     "output_type": "stream",
     "text": [
      "(62343, 80)\n"
     ]
    }
   ],
   "source": [
    "input = pd.read_csv('./data_5.txt',sep=\",\", header=None, dtype=\"float\").values\n",
    "print(input.shape)"
   ]
  },
  {
   "cell_type": "code",
   "execution_count": 4,
   "metadata": {},
   "outputs": [],
   "source": [
    "def load_data(test_split = 0.2):\n",
    "    print ('Loading data...')\n",
    "    input = pd.read_csv('./data_5.txt',sep=\",\", header=None, dtype=\"float\").values\n",
    "    x_shape = input.shape[0]\n",
    "    y_shape = input.shape[1]\n",
    "    \n",
    "    boundary = (int)(x_shape * 0.7)\n",
    "    X_train = input[0: boundary, 0:y_shape - 1]\n",
    "    y_train = input[0: boundary, -1]\n",
    "    X_test = input[boundary:x_shape, 0:y_shape - 1]\n",
    "    y_test = input[boundary:x_shape, -1]\n",
    "\n",
    "    print(\"Data is loaded\")\n",
    "    return pad_sequences(X_train), y_train, pad_sequences(X_test), y_test"
   ]
  },
  {
   "cell_type": "code",
   "execution_count": 5,
   "metadata": {},
   "outputs": [
    {
     "name": "stdout",
     "output_type": "stream",
     "text": [
      "Loading data...\n",
      "Data is loaded\n"
     ]
    }
   ],
   "source": [
    "X_train, y_train, X_test, y_test = load_data()"
   ]
  },
  {
   "cell_type": "code",
   "execution_count": 43,
   "metadata": {},
   "outputs": [],
   "source": [
    "def create_model(input_shape):\n",
    "    print ('Creating model...')\n",
    "    model = Sequential()\n",
    "    model.add(LSTM(activation=\"sigmoid\", return_sequences=True, units=128, recurrent_activation=\"tanh\", input_dim=79))          \n",
    "    #model.add(Dropout(0.5))\n",
    "    #model.add(LSTM(activation=\"sigmoid\", units=256, recurrent_activation=\"hard_sigmoid\", return_sequences=True))\n",
    "    #model.add(Dropout(0.5))\n",
    "    model.add(Dense(1, activation='sigmoid'))\n",
    "\n",
    "    print ('Compiling...')\n",
    "    model.compile(loss='mean_squared_error',\n",
    "                  optimizer='adam',\n",
    "                  metrics=['accuracy'])\n",
    "    return model"
   ]
  },
  {
   "cell_type": "code",
   "execution_count": 35,
   "metadata": {},
   "outputs": [
    {
     "data": {
      "text/plain": [
       "(43640,)"
      ]
     },
     "execution_count": 35,
     "metadata": {},
     "output_type": "execute_result"
    }
   ],
   "source": [
    "y_train.shape"
   ]
  },
  {
   "cell_type": "code",
   "execution_count": 36,
   "metadata": {},
   "outputs": [],
   "source": [
    "seq_len = 100\n",
    "X_train_seq = X_train[:(X_train.shape[0] - X_train.shape[0] % seq_len),:]\n",
    "shp = X_train_seq.shape\n",
    "X_train_seq = np.reshape(X_train_seq, [shp[0]//seq_len, seq_len, shp[1]])\n",
    "X_train_seq.shape\n",
    "\n",
    "y_train_seq = y_train[:(X_train.shape[0] - X_train.shape[0] % seq_len)]\n",
    "y_train_seq = np.reshape(y_train_seq, [shp[0]//seq_len, seq_len, 1])\n"
   ]
  },
  {
   "cell_type": "code",
   "execution_count": null,
   "metadata": {
    "scrolled": true
   },
   "outputs": [
    {
     "name": "stdout",
     "output_type": "stream",
     "text": [
      "Creating model...\n"
     ]
    },
    {
     "name": "stderr",
     "output_type": "stream",
     "text": [
      "C:\\Users\\yichu\\Anaconda3\\envs\\tensorflow\\lib\\site-packages\\ipykernel_launcher.py:4: UserWarning: The `input_dim` and `input_length` arguments in recurrent layers are deprecated. Use `input_shape` instead.\n",
      "  after removing the cwd from sys.path.\n",
      "C:\\Users\\yichu\\Anaconda3\\envs\\tensorflow\\lib\\site-packages\\ipykernel_launcher.py:4: UserWarning: Update your `LSTM` call to the Keras 2 API: `LSTM(activation=\"sigmoid\", return_sequences=True, units=128, recurrent_activation=\"tanh\", input_shape=(None, 79))`\n",
      "  after removing the cwd from sys.path.\n"
     ]
    },
    {
     "name": "stdout",
     "output_type": "stream",
     "text": [
      "Compiling...\n",
      "Fitting model...\n",
      "Train on 392 samples, validate on 44 samples\n",
      "Epoch 1/100\n",
      "392/392 [==============================] - 2s 5ms/step - loss: 0.1527 - acc: 0.7642 - val_loss: 0.0469 - val_acc: 0.9477\n",
      "Epoch 2/100\n",
      "392/392 [==============================] - 1s 2ms/step - loss: 0.0490 - acc: 0.9372 - val_loss: 0.0417 - val_acc: 0.9480\n",
      "Epoch 3/100\n",
      "392/392 [==============================] - 1s 2ms/step - loss: 0.0438 - acc: 0.9386 - val_loss: 0.0358 - val_acc: 0.9489\n",
      "Epoch 4/100\n",
      "392/392 [==============================] - 1s 2ms/step - loss: 0.0378 - acc: 0.9459 - val_loss: 0.0304 - val_acc: 0.9555\n",
      "Epoch 5/100\n",
      "240/392 [=================>............] - ETA: 0s - loss: 0.0359 - acc: 0.9500"
     ]
    }
   ],
   "source": [
    "model = create_model(X_train.shape)\n",
    "\n",
    "print ('Fitting model...')\n",
    "hist = model.fit(X_train_seq, y_train_seq, batch_size=48, epochs=100, validation_split = 0.1, verbose = 1)"
   ]
  },
  {
   "cell_type": "code",
   "execution_count": 19,
   "metadata": {},
   "outputs": [],
   "source": [
    "#\"\"\"Change the name of model\"\"\"\n",
    "#model.save('TrainingData_Linear_Regression_10_epochs.h5')"
   ]
  },
  {
   "cell_type": "code",
   "execution_count": 21,
   "metadata": {},
   "outputs": [],
   "source": [
    "seq_len = 100\n",
    "X_test_seq = X_test[:(X_test.shape[0] - X_test.shape[0] % seq_len),:]\n",
    "shp = X_test_seq.shape\n",
    "X_test_seq = np.reshape(X_test_seq, [shp[0]//seq_len, seq_len, shp[1]])\n",
    "X_test_seq.shape\n",
    "\n",
    "y_test_seq = y_train[:(X_test.shape[0] - X_test.shape[0] % seq_len)]\n",
    "y_test_seq = np.reshape(y_test_seq, [shp[0]//seq_len, seq_len, 1])\n",
    "\n"
   ]
  },
  {
   "cell_type": "code",
   "execution_count": 23,
   "metadata": {},
   "outputs": [
    {
     "name": "stdout",
     "output_type": "stream",
     "text": [
      "187/187 [==============================] - 13s 71ms/step\n",
      "Loss:  [0.7666524120589051, 0.8852406418259768]\n"
     ]
    }
   ],
   "source": [
    "result = model.evaluate(X_test_seq, y_test_seq, batch_size=48)\n",
    "# print('Test score:', score)\n",
    "# print('Test accuracy:', acc)\n",
    "print(\"Loss: \", result)"
   ]
  },
  {
   "cell_type": "code",
   "execution_count": 24,
   "metadata": {
    "scrolled": true
   },
   "outputs": [
    {
     "name": "stdout",
     "output_type": "stream",
     "text": [
      "(1611, 79)\n"
     ]
    }
   ],
   "source": [
    "test_data = pd.read_csv('./syllabusCSCI4155CSCI6505.txt',sep=\",\", header=None, dtype=\"float\").values\n",
    "print(test_data.shape)"
   ]
  },
  {
   "cell_type": "code",
   "execution_count": 27,
   "metadata": {},
   "outputs": [
    {
     "data": {
      "text/plain": [
       "(187, 100, 79)"
      ]
     },
     "execution_count": 27,
     "metadata": {},
     "output_type": "execute_result"
    }
   ],
   "source": [
    "seq_len = 100\n",
    "X_test_seq = X_test[:(X_test.shape[0] - X_test.shape[0] % seq_len),:]\n",
    "shp = X_test_seq.shape\n",
    "X_test_seq = np.reshape(X_test_seq, [shp[0]//seq_len, seq_len, shp[1]])\n",
    "X_test_seq.shape"
   ]
  },
  {
   "cell_type": "code",
   "execution_count": null,
   "metadata": {},
   "outputs": [],
   "source": [
    "result = model.pre(X_test_seq, y_test_seq, batch_size=48)\n"
   ]
  },
  {
   "cell_type": "code",
   "execution_count": 28,
   "metadata": {},
   "outputs": [],
   "source": [
    "from sklearn.metrics import accuracy_score\n",
    "prediction = np.where(model.predict(X_test_seq) > 0.5, 1, 0)"
   ]
  },
  {
   "cell_type": "code",
   "execution_count": 29,
   "metadata": {},
   "outputs": [
    {
     "name": "stdout",
     "output_type": "stream",
     "text": [
      "[[[0]\n",
      "  [0]\n",
      "  [0]\n",
      "  ...\n",
      "  [0]\n",
      "  [0]\n",
      "  [0]]\n",
      "\n",
      " [[0]\n",
      "  [0]\n",
      "  [0]\n",
      "  ...\n",
      "  [0]\n",
      "  [0]\n",
      "  [0]]\n",
      "\n",
      " [[0]\n",
      "  [0]\n",
      "  [0]\n",
      "  ...\n",
      "  [0]\n",
      "  [0]\n",
      "  [0]]\n",
      "\n",
      " ...\n",
      "\n",
      " [[0]\n",
      "  [0]\n",
      "  [0]\n",
      "  ...\n",
      "  [0]\n",
      "  [0]\n",
      "  [0]]\n",
      "\n",
      " [[0]\n",
      "  [0]\n",
      "  [0]\n",
      "  ...\n",
      "  [0]\n",
      "  [0]\n",
      "  [0]]\n",
      "\n",
      " [[0]\n",
      "  [0]\n",
      "  [0]\n",
      "  ...\n",
      "  [0]\n",
      "  [0]\n",
      "  [0]]]\n"
     ]
    }
   ],
   "source": [
    "print(prediction)"
   ]
  },
  {
   "cell_type": "code",
   "execution_count": 16,
   "metadata": {},
   "outputs": [],
   "source": [
    "np.savetxt(r'syllabusCSCI4155CSCI6505_prediction.txt', prediction, fmt='%d')"
   ]
  },
  {
   "cell_type": "code",
   "execution_count": null,
   "metadata": {},
   "outputs": [],
   "source": []
  }
 ],
 "metadata": {
  "kernelspec": {
   "display_name": "Python 3",
   "language": "python",
   "name": "python3"
  },
  "language_info": {
   "codemirror_mode": {
    "name": "ipython",
    "version": 3
   },
   "file_extension": ".py",
   "mimetype": "text/x-python",
   "name": "python",
   "nbconvert_exporter": "python",
   "pygments_lexer": "ipython3",
   "version": "3.6.4"
  }
 },
 "nbformat": 4,
 "nbformat_minor": 2
}
