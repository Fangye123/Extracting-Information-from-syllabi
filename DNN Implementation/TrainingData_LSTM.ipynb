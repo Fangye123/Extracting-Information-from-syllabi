{
 "cells": [
  {
   "cell_type": "code",
   "execution_count": 2,
   "metadata": {},
   "outputs": [
    {
     "name": "stderr",
     "output_type": "stream",
     "text": [
      "C:\\Users\\yichu\\Anaconda3\\envs\\tensorflow\\lib\\site-packages\\h5py\\__init__.py:36: FutureWarning: Conversion of the second argument of issubdtype from `float` to `np.floating` is deprecated. In future, it will be treated as `np.float64 == np.dtype(float).type`.\n",
      "  from ._conv import register_converters as _register_converters\n",
      "Using TensorFlow backend.\n"
     ]
    }
   ],
   "source": [
    "from keras.layers import Dense, Dropout, LSTM, Embedding, Conv1D, MaxPooling1D\n",
    "from keras.preprocessing.sequence import pad_sequences\n",
    "from keras.models import Sequential\n",
    "import pandas as pd\n",
    "import numpy as np"
   ]
  },
  {
   "cell_type": "code",
   "execution_count": 3,
   "metadata": {},
   "outputs": [
    {
     "name": "stdout",
     "output_type": "stream",
     "text": [
      "(62343, 80)\n"
     ]
    }
   ],
   "source": [
    "input = pd.read_csv('./data_5.txt',sep=\",\", header=None, dtype=\"float\").values\n",
    "print(input.shape)"
   ]
  },
  {
   "cell_type": "code",
   "execution_count": 4,
   "metadata": {},
   "outputs": [],
   "source": [
    "def load_data(test_split = 0.2):\n",
    "    print ('Loading data...')\n",
    "    input = pd.read_csv('./data_5.txt',sep=\",\", header=None, dtype=\"float\").values\n",
    "    x_shape = input.shape[0]\n",
    "    y_shape = input.shape[1]\n",
    "    \n",
    "    boundary = (int)(x_shape * 0.7)\n",
    "    X_train = input[0: boundary, 0:y_shape - 1]\n",
    "    y_train = input[0: boundary, -1]\n",
    "    X_test = input[boundary:x_shape, 0:y_shape - 1]\n",
    "    y_test = input[boundary:x_shape, -1]\n",
    "\n",
    "    print(\"Data is loaded\")\n",
    "    return pad_sequences(X_train), y_train, pad_sequences(X_test), y_test"
   ]
  },
  {
   "cell_type": "code",
   "execution_count": 5,
   "metadata": {},
   "outputs": [
    {
     "name": "stdout",
     "output_type": "stream",
     "text": [
      "Loading data...\n",
      "Data is loaded\n"
     ]
    }
   ],
   "source": [
    "X_train, y_train, X_test, y_test = load_data()"
   ]
  },
  {
   "cell_type": "code",
   "execution_count": 43,
   "metadata": {},
   "outputs": [],
   "source": [
    "def create_model(input_shape):\n",
    "    print ('Creating model...')\n",
    "    model = Sequential()\n",
    "    model.add(LSTM(activation=\"sigmoid\", return_sequences=True, units=128, recurrent_activation=\"tanh\", input_dim=79))          \n",
    "    #model.add(Dropout(0.5))\n",
    "    #model.add(LSTM(activation=\"sigmoid\", units=256, recurrent_activation=\"hard_sigmoid\", return_sequences=True))\n",
    "    #model.add(Dropout(0.5))\n",
    "    model.add(Dense(1, activation='sigmoid'))\n",
    "\n",
    "    print ('Compiling...')\n",
    "    model.compile(loss='mean_squared_error',\n",
    "                  optimizer='adam',\n",
    "                  metrics=['accuracy'])\n",
    "    return model"
   ]
  },
  {
   "cell_type": "code",
   "execution_count": 35,
   "metadata": {},
   "outputs": [
    {
     "data": {
      "text/plain": [
       "(43640,)"
      ]
     },
     "execution_count": 35,
     "metadata": {},
     "output_type": "execute_result"
    }
   ],
   "source": [
    "y_train.shape"
   ]
  },
  {
   "cell_type": "code",
   "execution_count": 36,
   "metadata": {},
   "outputs": [],
   "source": [
    "seq_len = 100\n",
    "X_train_seq = X_train[:(X_train.shape[0] - X_train.shape[0] % seq_len),:]\n",
    "shp = X_train_seq.shape\n",
    "X_train_seq = np.reshape(X_train_seq, [shp[0]//seq_len, seq_len, shp[1]])\n",
    "X_train_seq.shape\n",
    "\n",
    "y_train_seq = y_train[:(X_train.shape[0] - X_train.shape[0] % seq_len)]\n",
    "y_train_seq = np.reshape(y_train_seq, [shp[0]//seq_len, seq_len, 1])\n"
   ]
  },
  {
   "cell_type": "code",
   "execution_count": 45,
   "metadata": {
    "scrolled": false
   },
   "outputs": [
    {
     "name": "stdout",
     "output_type": "stream",
     "text": [
      "Creating model...\n"
     ]
    },
    {
     "name": "stderr",
     "output_type": "stream",
     "text": [
      "C:\\Users\\yichu\\Anaconda3\\envs\\tensorflow\\lib\\site-packages\\ipykernel_launcher.py:4: UserWarning: The `input_dim` and `input_length` arguments in recurrent layers are deprecated. Use `input_shape` instead.\n",
      "  after removing the cwd from sys.path.\n",
      "C:\\Users\\yichu\\Anaconda3\\envs\\tensorflow\\lib\\site-packages\\ipykernel_launcher.py:4: UserWarning: Update your `LSTM` call to the Keras 2 API: `LSTM(activation=\"sigmoid\", return_sequences=True, units=128, recurrent_activation=\"tanh\", input_shape=(None, 79))`\n",
      "  after removing the cwd from sys.path.\n"
     ]
    },
    {
     "name": "stdout",
     "output_type": "stream",
     "text": [
      "Compiling...\n",
      "Fitting model...\n",
      "Train on 392 samples, validate on 44 samples\n",
      "Epoch 1/100\n",
      "392/392 [==============================] - 2s 5ms/step - loss: 0.1527 - acc: 0.7642 - val_loss: 0.0469 - val_acc: 0.9477\n",
      "Epoch 2/100\n",
      "392/392 [==============================] - 1s 2ms/step - loss: 0.0490 - acc: 0.9372 - val_loss: 0.0417 - val_acc: 0.9480\n",
      "Epoch 3/100\n",
      "392/392 [==============================] - 1s 2ms/step - loss: 0.0438 - acc: 0.9386 - val_loss: 0.0358 - val_acc: 0.9489\n",
      "Epoch 4/100\n",
      "392/392 [==============================] - 1s 2ms/step - loss: 0.0378 - acc: 0.9459 - val_loss: 0.0304 - val_acc: 0.9555\n",
      "Epoch 5/100\n",
      "392/392 [==============================] - 1s 2ms/step - loss: 0.0354 - acc: 0.9516 - val_loss: 0.0283 - val_acc: 0.9600\n",
      "Epoch 6/100\n",
      "392/392 [==============================] - 1s 2ms/step - loss: 0.0334 - acc: 0.9548 - val_loss: 0.0271 - val_acc: 0.9595\n",
      "Epoch 7/100\n",
      "392/392 [==============================] - 1s 2ms/step - loss: 0.0311 - acc: 0.9572 - val_loss: 0.0253 - val_acc: 0.9616\n",
      "Epoch 8/100\n",
      "392/392 [==============================] - 1s 2ms/step - loss: 0.0285 - acc: 0.9610 - val_loss: 0.0225 - val_acc: 0.9689\n",
      "Epoch 9/100\n",
      "392/392 [==============================] - 1s 2ms/step - loss: 0.0253 - acc: 0.9663 - val_loss: 0.0193 - val_acc: 0.9748\n",
      "Epoch 10/100\n",
      "392/392 [==============================] - 1s 2ms/step - loss: 0.0216 - acc: 0.9732 - val_loss: 0.0162 - val_acc: 0.9789\n",
      "Epoch 11/100\n",
      "392/392 [==============================] - 1s 2ms/step - loss: 0.0185 - acc: 0.9771 - val_loss: 0.0147 - val_acc: 0.9809\n",
      "Epoch 12/100\n",
      "392/392 [==============================] - 1s 2ms/step - loss: 0.0166 - acc: 0.9793 - val_loss: 0.0139 - val_acc: 0.9827\n",
      "Epoch 13/100\n",
      "392/392 [==============================] - 1s 2ms/step - loss: 0.0151 - acc: 0.9819 - val_loss: 0.0131 - val_acc: 0.9832\n",
      "Epoch 14/100\n",
      "392/392 [==============================] - 1s 2ms/step - loss: 0.0136 - acc: 0.9851 - val_loss: 0.0122 - val_acc: 0.9850\n",
      "Epoch 15/100\n",
      "392/392 [==============================] - 1s 2ms/step - loss: 0.0123 - acc: 0.9867 - val_loss: 0.0118 - val_acc: 0.9864\n",
      "Epoch 16/100\n",
      "392/392 [==============================] - 1s 2ms/step - loss: 0.0112 - acc: 0.9880 - val_loss: 0.0111 - val_acc: 0.9875\n",
      "Epoch 17/100\n",
      "392/392 [==============================] - 1s 2ms/step - loss: 0.0102 - acc: 0.9891 - val_loss: 0.0113 - val_acc: 0.9861\n",
      "Epoch 18/100\n",
      "392/392 [==============================] - 1s 2ms/step - loss: 0.0095 - acc: 0.9899 - val_loss: 0.0111 - val_acc: 0.9870\n",
      "Epoch 19/100\n",
      "392/392 [==============================] - 1s 2ms/step - loss: 0.0089 - acc: 0.9902 - val_loss: 0.0115 - val_acc: 0.9859\n",
      "Epoch 20/100\n",
      "392/392 [==============================] - 1s 2ms/step - loss: 0.0084 - acc: 0.9912 - val_loss: 0.0111 - val_acc: 0.9870\n",
      "Epoch 21/100\n",
      "392/392 [==============================] - 1s 2ms/step - loss: 0.0077 - acc: 0.9923 - val_loss: 0.0112 - val_acc: 0.9873\n",
      "Epoch 22/100\n",
      "392/392 [==============================] - 1s 2ms/step - loss: 0.0074 - acc: 0.9924 - val_loss: 0.0106 - val_acc: 0.9893\n",
      "Epoch 23/100\n",
      "392/392 [==============================] - 1s 2ms/step - loss: 0.0070 - acc: 0.9931 - val_loss: 0.0108 - val_acc: 0.9868\n",
      "Epoch 24/100\n",
      "392/392 [==============================] - 1s 2ms/step - loss: 0.0070 - acc: 0.9925 - val_loss: 0.0110 - val_acc: 0.9877\n",
      "Epoch 25/100\n",
      "392/392 [==============================] - 1s 2ms/step - loss: 0.0064 - acc: 0.9934 - val_loss: 0.0107 - val_acc: 0.9866\n",
      "Epoch 26/100\n",
      "392/392 [==============================] - 1s 2ms/step - loss: 0.0062 - acc: 0.9940 - val_loss: 0.0101 - val_acc: 0.9893\n",
      "Epoch 27/100\n",
      "392/392 [==============================] - 1s 2ms/step - loss: 0.0060 - acc: 0.9944 - val_loss: 0.0106 - val_acc: 0.9877\n",
      "Epoch 28/100\n",
      "392/392 [==============================] - 1s 2ms/step - loss: 0.0057 - acc: 0.9942 - val_loss: 0.0102 - val_acc: 0.9884\n",
      "Epoch 29/100\n",
      "392/392 [==============================] - 1s 2ms/step - loss: 0.0054 - acc: 0.9948 - val_loss: 0.0099 - val_acc: 0.9891\n",
      "Epoch 30/100\n",
      "392/392 [==============================] - 1s 2ms/step - loss: 0.0050 - acc: 0.9953 - val_loss: 0.0095 - val_acc: 0.9898\n",
      "Epoch 31/100\n",
      "392/392 [==============================] - 1s 2ms/step - loss: 0.0048 - acc: 0.9956 - val_loss: 0.0096 - val_acc: 0.9891\n",
      "Epoch 32/100\n",
      "392/392 [==============================] - 1s 2ms/step - loss: 0.0045 - acc: 0.9959 - val_loss: 0.0096 - val_acc: 0.9895\n",
      "Epoch 33/100\n",
      "392/392 [==============================] - 1s 2ms/step - loss: 0.0044 - acc: 0.9959 - val_loss: 0.0097 - val_acc: 0.9889\n",
      "Epoch 34/100\n",
      "392/392 [==============================] - 1s 2ms/step - loss: 0.0043 - acc: 0.9959 - val_loss: 0.0095 - val_acc: 0.9893\n",
      "Epoch 35/100\n",
      "392/392 [==============================] - 1s 2ms/step - loss: 0.0044 - acc: 0.9955 - val_loss: 0.0098 - val_acc: 0.9889\n",
      "Epoch 36/100\n",
      "392/392 [==============================] - 1s 2ms/step - loss: 0.0045 - acc: 0.9958 - val_loss: 0.0096 - val_acc: 0.9886\n",
      "Epoch 37/100\n",
      "392/392 [==============================] - 1s 2ms/step - loss: 0.0044 - acc: 0.9956 - val_loss: 0.0094 - val_acc: 0.9895\n",
      "Epoch 38/100\n",
      "392/392 [==============================] - 1s 2ms/step - loss: 0.0042 - acc: 0.9960 - val_loss: 0.0094 - val_acc: 0.9889\n",
      "Epoch 39/100\n",
      "392/392 [==============================] - 1s 2ms/step - loss: 0.0041 - acc: 0.9962 - val_loss: 0.0097 - val_acc: 0.9884\n",
      "Epoch 40/100\n",
      "392/392 [==============================] - 1s 2ms/step - loss: 0.0040 - acc: 0.9960 - val_loss: 0.0093 - val_acc: 0.9891\n",
      "Epoch 41/100\n",
      "392/392 [==============================] - 1s 2ms/step - loss: 0.0038 - acc: 0.9966 - val_loss: 0.0093 - val_acc: 0.9898\n",
      "Epoch 42/100\n",
      "392/392 [==============================] - 1s 2ms/step - loss: 0.0036 - acc: 0.9967 - val_loss: 0.0091 - val_acc: 0.9900\n",
      "Epoch 43/100\n",
      "392/392 [==============================] - 1s 2ms/step - loss: 0.0036 - acc: 0.9967 - val_loss: 0.0090 - val_acc: 0.9891\n",
      "Epoch 44/100\n",
      "392/392 [==============================] - 1s 2ms/step - loss: 0.0036 - acc: 0.9966 - val_loss: 0.0091 - val_acc: 0.9898\n",
      "Epoch 45/100\n",
      "392/392 [==============================] - 1s 2ms/step - loss: 0.0036 - acc: 0.9966 - val_loss: 0.0096 - val_acc: 0.9884\n",
      "Epoch 46/100\n",
      "392/392 [==============================] - 1s 2ms/step - loss: 0.0034 - acc: 0.9968 - val_loss: 0.0090 - val_acc: 0.9891\n",
      "Epoch 47/100\n",
      "392/392 [==============================] - 1s 2ms/step - loss: 0.0033 - acc: 0.9969 - val_loss: 0.0090 - val_acc: 0.9898\n",
      "Epoch 48/100\n",
      "392/392 [==============================] - 1s 2ms/step - loss: 0.0032 - acc: 0.9970 - val_loss: 0.0089 - val_acc: 0.9895\n",
      "Epoch 49/100\n",
      "392/392 [==============================] - 1s 2ms/step - loss: 0.0032 - acc: 0.9970 - val_loss: 0.0091 - val_acc: 0.9895\n",
      "Epoch 50/100\n",
      "392/392 [==============================] - 1s 2ms/step - loss: 0.0031 - acc: 0.9971 - val_loss: 0.0089 - val_acc: 0.9900\n",
      "Epoch 51/100\n",
      "392/392 [==============================] - 1s 2ms/step - loss: 0.0031 - acc: 0.9971 - val_loss: 0.0091 - val_acc: 0.9895\n",
      "Epoch 52/100\n",
      "392/392 [==============================] - 1s 2ms/step - loss: 0.0030 - acc: 0.9972 - val_loss: 0.0090 - val_acc: 0.9893\n",
      "Epoch 53/100\n",
      "392/392 [==============================] - 1s 2ms/step - loss: 0.0030 - acc: 0.9971 - val_loss: 0.0089 - val_acc: 0.9898\n",
      "Epoch 54/100\n",
      "392/392 [==============================] - 1s 2ms/step - loss: 0.0029 - acc: 0.9972 - val_loss: 0.0087 - val_acc: 0.9902\n",
      "Epoch 55/100\n",
      "392/392 [==============================] - 1s 2ms/step - loss: 0.0029 - acc: 0.9972 - val_loss: 0.0090 - val_acc: 0.9891\n",
      "Epoch 56/100\n",
      "392/392 [==============================] - 1s 2ms/step - loss: 0.0029 - acc: 0.9972 - val_loss: 0.0088 - val_acc: 0.9900\n",
      "Epoch 57/100\n",
      "392/392 [==============================] - 1s 2ms/step - loss: 0.0029 - acc: 0.9973 - val_loss: 0.0087 - val_acc: 0.9900\n",
      "Epoch 58/100\n",
      "392/392 [==============================] - 1s 2ms/step - loss: 0.0034 - acc: 0.9966 - val_loss: 0.0103 - val_acc: 0.9889\n",
      "Epoch 59/100\n",
      "392/392 [==============================] - 1s 2ms/step - loss: 0.0041 - acc: 0.9953 - val_loss: 0.0112 - val_acc: 0.9859\n",
      "Epoch 60/100\n",
      "392/392 [==============================] - 1s 2ms/step - loss: 0.0040 - acc: 0.9957 - val_loss: 0.0095 - val_acc: 0.9886\n",
      "Epoch 61/100\n"
     ]
    },
    {
     "name": "stdout",
     "output_type": "stream",
     "text": [
      "392/392 [==============================] - 1s 2ms/step - loss: 0.0035 - acc: 0.9964 - val_loss: 0.0093 - val_acc: 0.9895\n",
      "Epoch 62/100\n",
      "392/392 [==============================] - 1s 2ms/step - loss: 0.0032 - acc: 0.9969 - val_loss: 0.0098 - val_acc: 0.9884\n",
      "Epoch 63/100\n",
      "392/392 [==============================] - 1s 2ms/step - loss: 0.0030 - acc: 0.9972 - val_loss: 0.0094 - val_acc: 0.9889\n",
      "Epoch 64/100\n",
      "392/392 [==============================] - 1s 2ms/step - loss: 0.0029 - acc: 0.9973 - val_loss: 0.0093 - val_acc: 0.9891\n",
      "Epoch 65/100\n",
      "392/392 [==============================] - 1s 2ms/step - loss: 0.0028 - acc: 0.9973 - val_loss: 0.0091 - val_acc: 0.9891\n",
      "Epoch 66/100\n",
      "392/392 [==============================] - 1s 2ms/step - loss: 0.0027 - acc: 0.9974 - val_loss: 0.0090 - val_acc: 0.9898\n",
      "Epoch 67/100\n",
      "392/392 [==============================] - 1s 2ms/step - loss: 0.0026 - acc: 0.9975 - val_loss: 0.0087 - val_acc: 0.9898\n",
      "Epoch 68/100\n",
      "392/392 [==============================] - 1s 2ms/step - loss: 0.0026 - acc: 0.9975 - val_loss: 0.0089 - val_acc: 0.9893\n",
      "Epoch 69/100\n",
      "392/392 [==============================] - 1s 2ms/step - loss: 0.0026 - acc: 0.9975 - val_loss: 0.0090 - val_acc: 0.9893\n",
      "Epoch 70/100\n",
      "392/392 [==============================] - 1s 2ms/step - loss: 0.0025 - acc: 0.9975 - val_loss: 0.0089 - val_acc: 0.9895\n",
      "Epoch 71/100\n",
      "392/392 [==============================] - 1s 2ms/step - loss: 0.0025 - acc: 0.9976 - val_loss: 0.0087 - val_acc: 0.9895\n",
      "Epoch 72/100\n",
      "392/392 [==============================] - 1s 2ms/step - loss: 0.0025 - acc: 0.9976 - val_loss: 0.0091 - val_acc: 0.9893\n",
      "Epoch 73/100\n",
      "392/392 [==============================] - 1s 2ms/step - loss: 0.0025 - acc: 0.9976 - val_loss: 0.0087 - val_acc: 0.9895\n",
      "Epoch 74/100\n",
      "392/392 [==============================] - 1s 2ms/step - loss: 0.0024 - acc: 0.9976 - val_loss: 0.0091 - val_acc: 0.9884\n",
      "Epoch 75/100\n",
      "392/392 [==============================] - 1s 2ms/step - loss: 0.0024 - acc: 0.9976 - val_loss: 0.0087 - val_acc: 0.9902\n",
      "Epoch 76/100\n",
      "392/392 [==============================] - 1s 2ms/step - loss: 0.0024 - acc: 0.9975 - val_loss: 0.0089 - val_acc: 0.9889\n",
      "Epoch 77/100\n",
      "392/392 [==============================] - 1s 2ms/step - loss: 0.0024 - acc: 0.9976 - val_loss: 0.0089 - val_acc: 0.9891\n",
      "Epoch 78/100\n",
      "392/392 [==============================] - 1s 2ms/step - loss: 0.0024 - acc: 0.9976 - val_loss: 0.0090 - val_acc: 0.9891\n",
      "Epoch 79/100\n",
      "392/392 [==============================] - 1s 2ms/step - loss: 0.0024 - acc: 0.9976 - val_loss: 0.0087 - val_acc: 0.9895\n",
      "Epoch 80/100\n",
      "392/392 [==============================] - 1s 2ms/step - loss: 0.0023 - acc: 0.9976 - val_loss: 0.0090 - val_acc: 0.9886\n",
      "Epoch 81/100\n",
      "392/392 [==============================] - 1s 2ms/step - loss: 0.0023 - acc: 0.9976 - val_loss: 0.0088 - val_acc: 0.9889\n",
      "Epoch 82/100\n",
      "392/392 [==============================] - 1s 2ms/step - loss: 0.0023 - acc: 0.9977 - val_loss: 0.0091 - val_acc: 0.9886\n",
      "Epoch 83/100\n",
      "392/392 [==============================] - 1s 2ms/step - loss: 0.0023 - acc: 0.9976 - val_loss: 0.0086 - val_acc: 0.9902\n",
      "Epoch 84/100\n",
      "392/392 [==============================] - 1s 2ms/step - loss: 0.0024 - acc: 0.9975 - val_loss: 0.0089 - val_acc: 0.9889\n",
      "Epoch 85/100\n",
      "392/392 [==============================] - 1s 2ms/step - loss: 0.0023 - acc: 0.9976 - val_loss: 0.0088 - val_acc: 0.9893\n",
      "Epoch 86/100\n",
      "392/392 [==============================] - 1s 2ms/step - loss: 0.0023 - acc: 0.9977 - val_loss: 0.0089 - val_acc: 0.9895\n",
      "Epoch 87/100\n",
      "392/392 [==============================] - 1s 2ms/step - loss: 0.0023 - acc: 0.9977 - val_loss: 0.0087 - val_acc: 0.9895\n",
      "Epoch 88/100\n",
      "392/392 [==============================] - 1s 2ms/step - loss: 0.0022 - acc: 0.9977 - val_loss: 0.0088 - val_acc: 0.9891\n",
      "Epoch 89/100\n",
      "392/392 [==============================] - 1s 2ms/step - loss: 0.0022 - acc: 0.9978 - val_loss: 0.0086 - val_acc: 0.9900\n",
      "Epoch 90/100\n",
      "392/392 [==============================] - 1s 2ms/step - loss: 0.0022 - acc: 0.9978 - val_loss: 0.0090 - val_acc: 0.9889\n",
      "Epoch 91/100\n",
      "392/392 [==============================] - 1s 2ms/step - loss: 0.0022 - acc: 0.9978 - val_loss: 0.0088 - val_acc: 0.9891\n",
      "Epoch 92/100\n",
      "392/392 [==============================] - 1s 2ms/step - loss: 0.0022 - acc: 0.9978 - val_loss: 0.0089 - val_acc: 0.9891\n",
      "Epoch 93/100\n",
      "392/392 [==============================] - 1s 2ms/step - loss: 0.0022 - acc: 0.9978 - val_loss: 0.0090 - val_acc: 0.9889\n",
      "Epoch 94/100\n",
      "392/392 [==============================] - 1s 2ms/step - loss: 0.0021 - acc: 0.9978 - val_loss: 0.0089 - val_acc: 0.9893\n",
      "Epoch 95/100\n",
      "392/392 [==============================] - 1s 2ms/step - loss: 0.0021 - acc: 0.9978 - val_loss: 0.0092 - val_acc: 0.9884\n",
      "Epoch 96/100\n",
      "392/392 [==============================] - 1s 2ms/step - loss: 0.0021 - acc: 0.9978 - val_loss: 0.0090 - val_acc: 0.9893\n",
      "Epoch 97/100\n",
      "392/392 [==============================] - 1s 2ms/step - loss: 0.0021 - acc: 0.9979 - val_loss: 0.0091 - val_acc: 0.9893\n",
      "Epoch 98/100\n",
      "392/392 [==============================] - 1s 2ms/step - loss: 0.0021 - acc: 0.9980 - val_loss: 0.0088 - val_acc: 0.9895\n",
      "Epoch 99/100\n",
      "392/392 [==============================] - 1s 2ms/step - loss: 0.0021 - acc: 0.9979 - val_loss: 0.0091 - val_acc: 0.9891\n",
      "Epoch 100/100\n",
      "392/392 [==============================] - 1s 2ms/step - loss: 0.0021 - acc: 0.9979 - val_loss: 0.0091 - val_acc: 0.9889\n"
     ]
    }
   ],
   "source": [
    "model = create_model(X_train.shape)\n",
    "\n",
    "print ('Fitting model...')\n",
    "hist = model.fit(X_train_seq, y_train_seq, batch_size=48, epochs=100, validation_split = 0.1, verbose = 1)"
   ]
  },
  {
   "cell_type": "code",
   "execution_count": 19,
   "metadata": {},
   "outputs": [],
   "source": [
    "#\"\"\"Change the name of model\"\"\"\n",
    "#model.save('TrainingData_Linear_Regression_10_epochs.h5')"
   ]
  },
  {
   "cell_type": "code",
   "execution_count": 46,
   "metadata": {},
   "outputs": [],
   "source": [
    "seq_len = 100\n",
    "X_test_seq = X_test[:(X_test.shape[0] - X_test.shape[0] % seq_len),:]\n",
    "shp = X_test_seq.shape\n",
    "X_test_seq = np.reshape(X_test_seq, [shp[0]//seq_len, seq_len, shp[1]])\n",
    "X_test_seq.shape\n",
    "\n",
    "y_test_seq = y_train[:(X_test.shape[0] - X_test.shape[0] % seq_len)]\n",
    "y_test_seq = np.reshape(y_test_seq, [shp[0]//seq_len, seq_len, 1])\n",
    "\n"
   ]
  },
  {
   "cell_type": "code",
   "execution_count": 47,
   "metadata": {},
   "outputs": [
    {
     "name": "stdout",
     "output_type": "stream",
     "text": [
      "187/187 [==============================] - 0s 866us/step\n",
      "Loss:  [0.10911158201369373, 0.8871122984325185]\n"
     ]
    }
   ],
   "source": [
    "result = model.evaluate(X_test_seq, y_test_seq, batch_size=48)\n",
    "# print('Test score:', score)\n",
    "# print('Test accuracy:', acc)\n",
    "print(\"Loss: \", result)"
   ]
  },
  {
   "cell_type": "code",
   "execution_count": 48,
   "metadata": {
    "scrolled": true
   },
   "outputs": [
    {
     "name": "stdout",
     "output_type": "stream",
     "text": [
      "(1611, 79)\n"
     ]
    }
   ],
   "source": [
    "test_data = pd.read_csv('./syllabusCSCI4155CSCI6505.txt',sep=\",\", header=None, dtype=\"float\").values\n",
    "print(test_data.shape)"
   ]
  },
  {
   "cell_type": "code",
   "execution_count": 49,
   "metadata": {},
   "outputs": [
    {
     "data": {
      "text/plain": [
       "(187, 100, 79)"
      ]
     },
     "execution_count": 49,
     "metadata": {},
     "output_type": "execute_result"
    }
   ],
   "source": [
    "seq_len = 100\n",
    "X_test_seq = X_test[:(X_test.shape[0] - X_test.shape[0] % seq_len),:]\n",
    "shp = X_test_seq.shape\n",
    "X_test_seq = np.reshape(X_test_seq, [shp[0]//seq_len, seq_len, shp[1]])\n",
    "X_test_seq.shape"
   ]
  },
  {
   "cell_type": "code",
   "execution_count": 51,
   "metadata": {},
   "outputs": [],
   "source": [
    "from sklearn.metrics import accuracy_score\n",
    "prediction = np.where(model.predict(X_test_seq) > 0.5, 1, 0)"
   ]
  },
  {
   "cell_type": "code",
   "execution_count": 52,
   "metadata": {},
   "outputs": [
    {
     "name": "stdout",
     "output_type": "stream",
     "text": [
      "[[[0]\n",
      "  [0]\n",
      "  [0]\n",
      "  ...\n",
      "  [0]\n",
      "  [0]\n",
      "  [0]]\n",
      "\n",
      " [[0]\n",
      "  [0]\n",
      "  [0]\n",
      "  ...\n",
      "  [0]\n",
      "  [0]\n",
      "  [0]]\n",
      "\n",
      " [[0]\n",
      "  [0]\n",
      "  [0]\n",
      "  ...\n",
      "  [0]\n",
      "  [0]\n",
      "  [0]]\n",
      "\n",
      " ...\n",
      "\n",
      " [[0]\n",
      "  [0]\n",
      "  [0]\n",
      "  ...\n",
      "  [0]\n",
      "  [0]\n",
      "  [0]]\n",
      "\n",
      " [[0]\n",
      "  [0]\n",
      "  [0]\n",
      "  ...\n",
      "  [0]\n",
      "  [0]\n",
      "  [0]]\n",
      "\n",
      " [[0]\n",
      "  [0]\n",
      "  [0]\n",
      "  ...\n",
      "  [0]\n",
      "  [0]\n",
      "  [0]]]\n"
     ]
    }
   ],
   "source": [
    "print(prediction)"
   ]
  },
  {
   "cell_type": "code",
   "execution_count": 16,
   "metadata": {},
   "outputs": [],
   "source": [
    "np.savetxt(r'syllabusCSCI4155CSCI6505_prediction.txt', prediction, fmt='%d')"
   ]
  },
  {
   "cell_type": "code",
   "execution_count": null,
   "metadata": {},
   "outputs": [],
   "source": []
  }
 ],
 "metadata": {
  "kernelspec": {
   "display_name": "Python 3",
   "language": "python",
   "name": "python3"
  },
  "language_info": {
   "codemirror_mode": {
    "name": "ipython",
    "version": 3
   },
   "file_extension": ".py",
   "mimetype": "text/x-python",
   "name": "python",
   "nbconvert_exporter": "python",
   "pygments_lexer": "ipython3",
   "version": "3.6.4"
  }
 },
 "nbformat": 4,
 "nbformat_minor": 2
}
