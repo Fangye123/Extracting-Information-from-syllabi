{
 "cells": [
  {
   "cell_type": "code",
   "execution_count": 3,
   "metadata": {},
   "outputs": [
    {
     "name": "stderr",
     "output_type": "stream",
     "text": [
      "C:\\Users\\yichu\\Anaconda3\\envs\\tensorflow\\lib\\site-packages\\h5py\\__init__.py:36: FutureWarning: Conversion of the second argument of issubdtype from `float` to `np.floating` is deprecated. In future, it will be treated as `np.float64 == np.dtype(float).type`.\n",
      "  from ._conv import register_converters as _register_converters\n",
      "Using TensorFlow backend.\n"
     ]
    }
   ],
   "source": [
    "from keras.layers import Dense, Dropout, LSTM, Embedding, Conv1D, MaxPooling1D\n",
    "from keras.preprocessing.sequence import pad_sequences\n",
    "from keras.models import Sequential\n",
    "import pandas as pd\n",
    "import numpy as np"
   ]
  },
  {
   "cell_type": "code",
   "execution_count": 2,
   "metadata": {},
   "outputs": [
    {
     "name": "stdout",
     "output_type": "stream",
     "text": [
      "(62343, 80)\n"
     ]
    }
   ],
   "source": [
    "input = pd.read_csv('./data_5.txt',sep=\",\", header=None, dtype=\"float\").values\n",
    "print(input.shape)"
   ]
  },
  {
   "cell_type": "code",
   "execution_count": 4,
   "metadata": {},
   "outputs": [],
   "source": [
    "def load_data(test_split = 0.2):\n",
    "    print ('Loading data...')\n",
    "    input = pd.read_csv('./data_5.txt',sep=\",\", header=None, dtype=\"float\").values\n",
    "    x_shape = input.shape[0]\n",
    "    y_shape = input.shape[1]\n",
    "    \n",
    "    boundary = (int)(x_shape * 0.7)\n",
    "    X_train = input[0: boundary, 0:y_shape - 1]\n",
    "    y_train = input[0: boundary, -1]\n",
    "    X_test = input[boundary:x_shape, 0:y_shape - 1]\n",
    "    y_test = input[boundary:x_shape, -1]\n",
    "\n",
    "    print(\"Data is loaded\")\n",
    "    return pad_sequences(X_train), y_train, pad_sequences(X_test), y_test"
   ]
  },
  {
   "cell_type": "code",
   "execution_count": 5,
   "metadata": {},
   "outputs": [
    {
     "name": "stdout",
     "output_type": "stream",
     "text": [
      "Loading data...\n",
      "Data is loaded\n"
     ]
    }
   ],
   "source": [
    "X_train, y_train, X_test, y_test = load_data()"
   ]
  },
  {
   "cell_type": "code",
   "execution_count": 8,
   "metadata": {},
   "outputs": [],
   "source": [
    "def create_model(input_shape):\n",
    "    print ('Creating model...')\n",
    "    model = Sequential()\n",
    "    model.add(Dense(100, input_dim=79, kernel_initializer='normal', activation='relu'))\n",
    "    model.add(Dense(50, kernel_initializer='normal', activation='relu'))\n",
    "    model.add(Dense(1, kernel_initializer='normal', activation='sigmoid'))\n",
    "    # Compile model\n",
    "    model.compile(loss='mean_squared_error', optimizer='adam')\n",
    "    return model"
   ]
  },
  {
   "cell_type": "code",
   "execution_count": 9,
   "metadata": {},
   "outputs": [
    {
     "name": "stdout",
     "output_type": "stream",
     "text": [
      "Creating model...\n",
      "Fitting model...\n",
      "Train on 39276 samples, validate on 4364 samples\n",
      "Epoch 1/10\n",
      "39276/39276 [==============================] - 196s 5ms/step - loss: 0.0326 - val_loss: 0.0248\n",
      "Epoch 2/10\n",
      "39276/39276 [==============================] - 192s 5ms/step - loss: 0.0306 - val_loss: 0.0245\n",
      "Epoch 3/10\n",
      "39276/39276 [==============================] - 194s 5ms/step - loss: 0.0297 - val_loss: 0.0263\n",
      "Epoch 4/10\n",
      "39276/39276 [==============================] - 210s 5ms/step - loss: 0.0290 - val_loss: 0.0268\n",
      "Epoch 5/10\n",
      "39276/39276 [==============================] - 215s 5ms/step - loss: 0.0291 - val_loss: 0.0288\n",
      "Epoch 6/10\n",
      "39276/39276 [==============================] - 212s 5ms/step - loss: 0.0284 - val_loss: 0.0259\n",
      "Epoch 7/10\n",
      "39276/39276 [==============================] - 220s 6ms/step - loss: 0.0281 - val_loss: 0.0255\n",
      "Epoch 8/10\n",
      "39276/39276 [==============================] - 215s 5ms/step - loss: 0.0278 - val_loss: 0.0240\n",
      "Epoch 9/10\n",
      "39276/39276 [==============================] - 203s 5ms/step - loss: 0.0279 - val_loss: 0.0259\n",
      "Epoch 10/10\n",
      "39276/39276 [==============================] - 316s 8ms/step - loss: 0.0272 - val_loss: 0.0240\n"
     ]
    }
   ],
   "source": [
    "model = create_model(X_train.shape)\n",
    "\n",
    "print ('Fitting model...')\n",
    "hist = model.fit(X_train, y_train, batch_size=1, epochs=10, validation_split = 0.1, verbose = 1)"
   ]
  },
  {
   "cell_type": "code",
   "execution_count": 10,
   "metadata": {},
   "outputs": [],
   "source": [
    "\"\"\"Change the name of model\"\"\"\n",
    "model.save('TrainingData_Linear_Regression_10_epochs.h5')"
   ]
  },
  {
   "cell_type": "code",
   "execution_count": 11,
   "metadata": {},
   "outputs": [
    {
     "name": "stdout",
     "output_type": "stream",
     "text": [
      "18703/18703 [==============================] - 26s 1ms/step\n",
      "Loss:  0.02450057771820756\n"
     ]
    }
   ],
   "source": [
    "result = model.evaluate(X_test, y_test, batch_size=1)\n",
    "# print('Test score:', score)\n",
    "# print('Test accuracy:', acc)\n",
    "print(\"Loss: \", result)"
   ]
  },
  {
   "cell_type": "code",
   "execution_count": 12,
   "metadata": {
    "scrolled": true
   },
   "outputs": [
    {
     "name": "stdout",
     "output_type": "stream",
     "text": [
      "(1611, 79)\n"
     ]
    }
   ],
   "source": [
    "test_data = pd.read_csv('./syllabusCSCI4155CSCI6505.txt',sep=\",\", header=None, dtype=\"float\").values\n",
    "print(test_data.shape)"
   ]
  },
  {
   "cell_type": "code",
   "execution_count": 13,
   "metadata": {},
   "outputs": [],
   "source": [
    "from sklearn.metrics import accuracy_score\n",
    "prediction = np.where(model.predict(test_data) > 0.5, 1, 0)"
   ]
  },
  {
   "cell_type": "code",
   "execution_count": 14,
   "metadata": {},
   "outputs": [
    {
     "name": "stdout",
     "output_type": "stream",
     "text": [
      "[[1]\n",
      " [1]\n",
      " [1]\n",
      " ...\n",
      " [0]\n",
      " [0]\n",
      " [0]]\n"
     ]
    }
   ],
   "source": [
    "print(prediction)"
   ]
  },
  {
   "cell_type": "code",
   "execution_count": 16,
   "metadata": {},
   "outputs": [],
   "source": [
    "np.savetxt(r'syllabusCSCI4155CSCI6505_prediction.txt', prediction, fmt='%d')"
   ]
  },
  {
   "cell_type": "code",
   "execution_count": null,
   "metadata": {},
   "outputs": [],
   "source": []
  }
 ],
 "metadata": {
  "kernelspec": {
   "display_name": "Python 3",
   "language": "python",
   "name": "python3"
  },
  "language_info": {
   "codemirror_mode": {
    "name": "ipython",
    "version": 3
   },
   "file_extension": ".py",
   "mimetype": "text/x-python",
   "name": "python",
   "nbconvert_exporter": "python",
   "pygments_lexer": "ipython3",
   "version": "3.6.4"
  }
 },
 "nbformat": 4,
 "nbformat_minor": 2
}
